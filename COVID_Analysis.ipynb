{
 "cells": [
  {
   "cell_type": "code",
   "execution_count": 1,
   "metadata": {},
   "outputs": [],
   "source": [
    "# Imports\n",
    "%matplotlib inline\n",
    "import matplotlib.pyplot as plt\n",
    "import pandas as pd\n",
    "import numpy as np"
   ]
  },
  {
   "cell_type": "markdown",
   "metadata": {},
   "source": [
    "# Pandas DataFrame"
   ]
  },
  {
   "cell_type": "code",
   "execution_count": 2,
   "metadata": {},
   "outputs": [],
   "source": [
    "# Read CSV file and create a Pandas dataframe\n",
    "df = pd.read_csv(\"Resources/COVID19_data.csv\")"
   ]
  },
  {
   "cell_type": "code",
   "execution_count": 3,
   "metadata": {},
   "outputs": [
    {
     "data": {
      "text/html": [
       "<div>\n",
       "<style scoped>\n",
       "    .dataframe tbody tr th:only-of-type {\n",
       "        vertical-align: middle;\n",
       "    }\n",
       "\n",
       "    .dataframe tbody tr th {\n",
       "        vertical-align: top;\n",
       "    }\n",
       "\n",
       "    .dataframe thead th {\n",
       "        text-align: right;\n",
       "    }\n",
       "</style>\n",
       "<table border=\"1\" class=\"dataframe\">\n",
       "  <thead>\n",
       "    <tr style=\"text-align: right;\">\n",
       "      <th></th>\n",
       "      <th>Data as of</th>\n",
       "      <th>Start Week</th>\n",
       "      <th>End Week</th>\n",
       "      <th>State</th>\n",
       "      <th>Condition Group</th>\n",
       "      <th>Condition</th>\n",
       "      <th>ICD10_codes</th>\n",
       "      <th>Age Group</th>\n",
       "      <th>COVID-19 Deaths</th>\n",
       "      <th>Number of Mentions</th>\n",
       "      <th>Flag</th>\n",
       "    </tr>\n",
       "  </thead>\n",
       "  <tbody>\n",
       "    <tr>\n",
       "      <th>0</th>\n",
       "      <td>12/20/2020</td>\n",
       "      <td>02/01/2020</td>\n",
       "      <td>12/19/2020</td>\n",
       "      <td>US</td>\n",
       "      <td>Respiratory diseases</td>\n",
       "      <td>Influenza and pneumonia</td>\n",
       "      <td>J09-J18</td>\n",
       "      <td>0-24</td>\n",
       "      <td>181.0</td>\n",
       "      <td>187.0</td>\n",
       "      <td>NaN</td>\n",
       "    </tr>\n",
       "    <tr>\n",
       "      <th>1</th>\n",
       "      <td>12/20/2020</td>\n",
       "      <td>02/01/2020</td>\n",
       "      <td>12/19/2020</td>\n",
       "      <td>US</td>\n",
       "      <td>Respiratory diseases</td>\n",
       "      <td>Influenza and pneumonia</td>\n",
       "      <td>J09-J18</td>\n",
       "      <td>25-34</td>\n",
       "      <td>903.0</td>\n",
       "      <td>920.0</td>\n",
       "      <td>NaN</td>\n",
       "    </tr>\n",
       "    <tr>\n",
       "      <th>2</th>\n",
       "      <td>12/20/2020</td>\n",
       "      <td>02/01/2020</td>\n",
       "      <td>12/19/2020</td>\n",
       "      <td>US</td>\n",
       "      <td>Respiratory diseases</td>\n",
       "      <td>Influenza and pneumonia</td>\n",
       "      <td>J09-J18</td>\n",
       "      <td>35-44</td>\n",
       "      <td>2316.0</td>\n",
       "      <td>2360.0</td>\n",
       "      <td>NaN</td>\n",
       "    </tr>\n",
       "    <tr>\n",
       "      <th>3</th>\n",
       "      <td>12/20/2020</td>\n",
       "      <td>02/01/2020</td>\n",
       "      <td>12/19/2020</td>\n",
       "      <td>US</td>\n",
       "      <td>Respiratory diseases</td>\n",
       "      <td>Influenza and pneumonia</td>\n",
       "      <td>J09-J18</td>\n",
       "      <td>45-54</td>\n",
       "      <td>6598.0</td>\n",
       "      <td>6765.0</td>\n",
       "      <td>NaN</td>\n",
       "    </tr>\n",
       "    <tr>\n",
       "      <th>4</th>\n",
       "      <td>12/20/2020</td>\n",
       "      <td>02/01/2020</td>\n",
       "      <td>12/19/2020</td>\n",
       "      <td>US</td>\n",
       "      <td>Respiratory diseases</td>\n",
       "      <td>Influenza and pneumonia</td>\n",
       "      <td>J09-J18</td>\n",
       "      <td>55-64</td>\n",
       "      <td>16398.0</td>\n",
       "      <td>16779.0</td>\n",
       "      <td>NaN</td>\n",
       "    </tr>\n",
       "  </tbody>\n",
       "</table>\n",
       "</div>"
      ],
      "text/plain": [
       "   Data as of  Start Week    End Week State       Condition Group  \\\n",
       "0  12/20/2020  02/01/2020  12/19/2020    US  Respiratory diseases   \n",
       "1  12/20/2020  02/01/2020  12/19/2020    US  Respiratory diseases   \n",
       "2  12/20/2020  02/01/2020  12/19/2020    US  Respiratory diseases   \n",
       "3  12/20/2020  02/01/2020  12/19/2020    US  Respiratory diseases   \n",
       "4  12/20/2020  02/01/2020  12/19/2020    US  Respiratory diseases   \n",
       "\n",
       "                 Condition ICD10_codes Age Group  COVID-19 Deaths  \\\n",
       "0  Influenza and pneumonia     J09-J18      0-24            181.0   \n",
       "1  Influenza and pneumonia     J09-J18     25-34            903.0   \n",
       "2  Influenza and pneumonia     J09-J18     35-44           2316.0   \n",
       "3  Influenza and pneumonia     J09-J18     45-54           6598.0   \n",
       "4  Influenza and pneumonia     J09-J18     55-64          16398.0   \n",
       "\n",
       "   Number of Mentions Flag  \n",
       "0               187.0  NaN  \n",
       "1               920.0  NaN  \n",
       "2              2360.0  NaN  \n",
       "3              6765.0  NaN  \n",
       "4             16779.0  NaN  "
      ]
     },
     "execution_count": 3,
     "metadata": {},
     "output_type": "execute_result"
    }
   ],
   "source": [
    "# View first 5 rows and column headers of new dataframe\n",
    "df.head()"
   ]
  },
  {
   "cell_type": "code",
   "execution_count": 4,
   "metadata": {},
   "outputs": [],
   "source": [
    "# Replace NaN/blank entries with 0\n",
    "df[\"COVID-19 Deaths\"].fillna(0, inplace=True)"
   ]
  },
  {
   "cell_type": "code",
   "execution_count": 5,
   "metadata": {},
   "outputs": [],
   "source": [
    "# Groupby \"COVID-19 Deaths\" to find total for each condition\n",
    "df = df.groupby(\"Condition\")[\"COVID-19 Deaths\"].sum().reset_index()"
   ]
  },
  {
   "cell_type": "code",
   "execution_count": 6,
   "metadata": {},
   "outputs": [],
   "source": [
    "# Convert \"COVID-19 Deaths\" column to integers\n",
    "df[\"COVID-19 Deaths\"] = df[\"COVID-19 Deaths\"].astype(\"int\")"
   ]
  },
  {
   "cell_type": "code",
   "execution_count": 7,
   "metadata": {},
   "outputs": [],
   "source": [
    "# Rank totals deaths in descending order\n",
    "df = df.sort_values([\"COVID-19 Deaths\"], ascending=False)"
   ]
  },
  {
   "cell_type": "code",
   "execution_count": 8,
   "metadata": {},
   "outputs": [],
   "source": [
    "# Drop rows for \"COVID-19\" and \"All other conditions and causes (residual)\" - not helpful for determining top underlying conditionss\n",
    "df = df.loc[~((df[\"Condition\"] == \"COVID-19\") | (df[\"Condition\"] == \"All other conditions and causes (residual)\")),:]"
   ]
  },
  {
   "cell_type": "code",
   "execution_count": 9,
   "metadata": {},
   "outputs": [],
   "source": [
    "# Reset index\n",
    "df = df.reset_index(drop=True)"
   ]
  },
  {
   "cell_type": "code",
   "execution_count": 10,
   "metadata": {},
   "outputs": [],
   "source": [
    "# Make index start with 1 (so that output dataframe will display rankings next to each condition)\n",
    "df.index = df.index + 1"
   ]
  },
  {
   "cell_type": "code",
   "execution_count": 11,
   "metadata": {},
   "outputs": [],
   "source": [
    "# Isolate top 10 conditions and create new variable to store new dataframe\n",
    "top_10 = df.iloc[0:10].copy()"
   ]
  },
  {
   "cell_type": "code",
   "execution_count": 12,
   "metadata": {},
   "outputs": [],
   "source": [
    "# Format totals in \"COVID-19 Deaths\" column with commas \n",
    "top_10[\"COVID-19 Deaths\"] = top_10[\"COVID-19 Deaths\"].apply(lambda x : \"{:,}\".format(x))"
   ]
  },
  {
   "cell_type": "markdown",
   "metadata": {},
   "source": [
    "### Top 10 Underlying Conditions:"
   ]
  },
  {
   "cell_type": "code",
   "execution_count": 13,
   "metadata": {},
   "outputs": [
    {
     "data": {
      "text/html": [
       "<div>\n",
       "<style scoped>\n",
       "    .dataframe tbody tr th:only-of-type {\n",
       "        vertical-align: middle;\n",
       "    }\n",
       "\n",
       "    .dataframe tbody tr th {\n",
       "        vertical-align: top;\n",
       "    }\n",
       "\n",
       "    .dataframe thead th {\n",
       "        text-align: right;\n",
       "    }\n",
       "</style>\n",
       "<table border=\"1\" class=\"dataframe\">\n",
       "  <thead>\n",
       "    <tr style=\"text-align: right;\">\n",
       "      <th></th>\n",
       "      <th>Condition</th>\n",
       "      <th>COVID-19 Deaths</th>\n",
       "    </tr>\n",
       "  </thead>\n",
       "  <tbody>\n",
       "    <tr>\n",
       "      <th>1</th>\n",
       "      <td>Influenza and pneumonia</td>\n",
       "      <td>490,237</td>\n",
       "    </tr>\n",
       "    <tr>\n",
       "      <th>2</th>\n",
       "      <td>Respiratory failure</td>\n",
       "      <td>400,659</td>\n",
       "    </tr>\n",
       "    <tr>\n",
       "      <th>3</th>\n",
       "      <td>Hypertensive diseases</td>\n",
       "      <td>235,729</td>\n",
       "    </tr>\n",
       "    <tr>\n",
       "      <th>4</th>\n",
       "      <td>Diabetes</td>\n",
       "      <td>183,168</td>\n",
       "    </tr>\n",
       "    <tr>\n",
       "      <th>5</th>\n",
       "      <td>Adult respiratory distress syndrome</td>\n",
       "      <td>134,405</td>\n",
       "    </tr>\n",
       "    <tr>\n",
       "      <th>6</th>\n",
       "      <td>Cardiac arrest</td>\n",
       "      <td>129,342</td>\n",
       "    </tr>\n",
       "    <tr>\n",
       "      <th>7</th>\n",
       "      <td>Vascular and unspecified dementia</td>\n",
       "      <td>126,968</td>\n",
       "    </tr>\n",
       "    <tr>\n",
       "      <th>8</th>\n",
       "      <td>Ischemic heart disease</td>\n",
       "      <td>124,642</td>\n",
       "    </tr>\n",
       "    <tr>\n",
       "      <th>9</th>\n",
       "      <td>Sepsis</td>\n",
       "      <td>105,459</td>\n",
       "    </tr>\n",
       "    <tr>\n",
       "      <th>10</th>\n",
       "      <td>Chronic lower respiratory diseases</td>\n",
       "      <td>100,469</td>\n",
       "    </tr>\n",
       "  </tbody>\n",
       "</table>\n",
       "</div>"
      ],
      "text/plain": [
       "                              Condition COVID-19 Deaths\n",
       "1               Influenza and pneumonia         490,237\n",
       "2                   Respiratory failure         400,659\n",
       "3                 Hypertensive diseases         235,729\n",
       "4                              Diabetes         183,168\n",
       "5   Adult respiratory distress syndrome         134,405\n",
       "6                        Cardiac arrest         129,342\n",
       "7     Vascular and unspecified dementia         126,968\n",
       "8                Ischemic heart disease         124,642\n",
       "9                                Sepsis         105,459\n",
       "10   Chronic lower respiratory diseases         100,469"
      ]
     },
     "execution_count": 13,
     "metadata": {},
     "output_type": "execute_result"
    }
   ],
   "source": [
    "# Display top 10 underlying conditions\n",
    "top_10"
   ]
  },
  {
   "cell_type": "markdown",
   "metadata": {},
   "source": [
    "# Matplotlib Pie Chart"
   ]
  },
  {
   "cell_type": "code",
   "execution_count": 14,
   "metadata": {},
   "outputs": [],
   "source": [
    "#  Isolate the top 5 conditions to use for pie chart\n",
    "top5 = df.iloc[0:5].copy()"
   ]
  },
  {
   "cell_type": "code",
   "execution_count": 15,
   "metadata": {},
   "outputs": [],
   "source": [
    "# Save CONDITIONS for each of the top 5 conditions as list\n",
    "conditions_top5 = top5[\"Condition\"]"
   ]
  },
  {
   "cell_type": "code",
   "execution_count": 16,
   "metadata": {},
   "outputs": [],
   "source": [
    "# Save DEATHS for each of the top 5 conditions as list\n",
    "deaths_top5 = top5[\"COVID-19 Deaths\"]"
   ]
  },
  {
   "cell_type": "code",
   "execution_count": 17,
   "metadata": {},
   "outputs": [],
   "source": [
    "# Esthetics\n",
    "colors = [\"lightcoral\", \"gold\", \"lightskyblue\", \"red\", \"green\"]\n",
    "explode = (0.1, 0, 0)"
   ]
  },
  {
   "cell_type": "code",
   "execution_count": 18,
   "metadata": {},
   "outputs": [
    {
     "data": {
      "image/png": "[encoded data removed]",
      "text/plain": [
       "<Figure size 432x288 with 1 Axes>"
      ]
     },
     "metadata": {},
     "output_type": "display_data"
    }
   ],
   "source": [
    "#  Create pie chart\n",
    "plt.pie(deaths_top5, labels=conditions_top5, colors=colors, autopct=\"%1.1f%%\", shadow=True, startangle=250, radius=1.2)\n",
    "\n",
    "# Chart title\n",
    "plt.title(\"Top 5 Underlying Health Conditions for COVID-19 Deaths\")\n",
    "\n",
    "# Show chart\n",
    "plt.show()"
   ]
  }
 ],
 "metadata": {
  "kernelspec": {
   "display_name": "Python 3",
   "language": "python",
   "name": "python3"
  },
  "language_info": {
   "codemirror_mode": {
    "name": "ipython",
    "version": 3
   },
   "file_extension": ".py",
   "mimetype": "text/x-python",
   "name": "python",
   "nbconvert_exporter": "python",
   "pygments_lexer": "ipython3",
   "version": "3.8.3"
  }
 },
 "nbformat": 4,
 "nbformat_minor": 4
}
